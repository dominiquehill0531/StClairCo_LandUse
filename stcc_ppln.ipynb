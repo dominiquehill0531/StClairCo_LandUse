{
 "cells": [
  {
   "cell_type": "markdown",
   "id": "9146ba41-0388-4f18-82ac-07969b6ef001",
   "metadata": {},
   "source": [
    "# St. Clair County Land Use and Parcel Data Pipeline"
   ]
  },
  {
   "cell_type": "code",
   "execution_count": 1,
   "id": "b2e693eb-091b-4fbf-bae5-d68def34b48e",
   "metadata": {
    "scrolled": true
   },
   "outputs": [
    {
     "name": "stdout",
     "output_type": "stream",
     "text": [
      "Requirement already satisfied: Selenium in c:\\users\\python-dev\\development\\stclairco_landuse\\land_use_venv\\lib\\site-packages (4.17.2)\n",
      "Requirement already satisfied: certifi>=2021.10.8 in c:\\users\\python-dev\\development\\stclairco_landuse\\land_use_venv\\lib\\site-packages (from Selenium) (2024.2.2)\n",
      "Requirement already satisfied: trio-websocket~=0.9 in c:\\users\\python-dev\\development\\stclairco_landuse\\land_use_venv\\lib\\site-packages (from Selenium) (0.11.1)\n",
      "Requirement already satisfied: typing_extensions>=4.9.0 in c:\\users\\python-dev\\development\\stclairco_landuse\\land_use_venv\\lib\\site-packages (from Selenium) (4.9.0)\n",
      "Requirement already satisfied: trio~=0.17 in c:\\users\\python-dev\\development\\stclairco_landuse\\land_use_venv\\lib\\site-packages (from Selenium) (0.24.0)\n",
      "Requirement already satisfied: urllib3[socks]<3,>=1.26 in c:\\users\\python-dev\\development\\stclairco_landuse\\land_use_venv\\lib\\site-packages (from Selenium) (2.2.0)\n",
      "Requirement already satisfied: cffi>=1.14 in c:\\users\\python-dev\\development\\stclairco_landuse\\land_use_venv\\lib\\site-packages (from trio~=0.17->Selenium) (1.16.0)\n",
      "Requirement already satisfied: outcome in c:\\users\\python-dev\\development\\stclairco_landuse\\land_use_venv\\lib\\site-packages (from trio~=0.17->Selenium) (1.3.0.post0)\n",
      "Requirement already satisfied: sniffio>=1.3.0 in c:\\users\\python-dev\\development\\stclairco_landuse\\land_use_venv\\lib\\site-packages (from trio~=0.17->Selenium) (1.3.0)\n",
      "Requirement already satisfied: idna in c:\\users\\python-dev\\development\\stclairco_landuse\\land_use_venv\\lib\\site-packages (from trio~=0.17->Selenium) (3.6)\n",
      "Requirement already satisfied: sortedcontainers in c:\\users\\python-dev\\development\\stclairco_landuse\\land_use_venv\\lib\\site-packages (from trio~=0.17->Selenium) (2.4.0)\n",
      "Requirement already satisfied: attrs>=20.1.0 in c:\\users\\python-dev\\development\\stclairco_landuse\\land_use_venv\\lib\\site-packages (from trio~=0.17->Selenium) (23.2.0)\n",
      "Requirement already satisfied: exceptiongroup in c:\\users\\python-dev\\development\\stclairco_landuse\\land_use_venv\\lib\\site-packages (from trio~=0.17->Selenium) (1.2.0)\n",
      "Requirement already satisfied: wsproto>=0.14 in c:\\users\\python-dev\\development\\stclairco_landuse\\land_use_venv\\lib\\site-packages (from trio-websocket~=0.9->Selenium) (1.2.0)\n",
      "Requirement already satisfied: pysocks!=1.5.7,<2.0,>=1.5.6 in c:\\users\\python-dev\\development\\stclairco_landuse\\land_use_venv\\lib\\site-packages (from urllib3[socks]<3,>=1.26->Selenium) (1.7.1)\n",
      "Requirement already satisfied: pycparser in c:\\users\\python-dev\\development\\stclairco_landuse\\land_use_venv\\lib\\site-packages (from cffi>=1.14->trio~=0.17->Selenium) (2.21)\n",
      "Requirement already satisfied: h11<1,>=0.9.0 in c:\\users\\python-dev\\development\\stclairco_landuse\\land_use_venv\\lib\\site-packages (from wsproto>=0.14->trio-websocket~=0.9->Selenium) (0.14.0)\n"
     ]
    },
    {
     "name": "stderr",
     "output_type": "stream",
     "text": [
      "\n",
      "[notice] A new release of pip is available: 23.0.1 -> 24.0\n",
      "[notice] To update, run: python.exe -m pip install --upgrade pip\n"
     ]
    }
   ],
   "source": [
    "!pip3 install Selenium"
   ]
  },
  {
   "cell_type": "code",
   "execution_count": 2,
   "id": "32d5c69b-c33e-495e-aa43-13bfef945049",
   "metadata": {},
   "outputs": [],
   "source": [
    "from selenium import webdriver\n",
    "from selenium.webdriver.chrome.options import Options\n",
    "# from selenium.webdriver.firefox.options import Options\n",
    "from selenium.webdriver.common.by import By\n",
    "from selenium.webdriver.common.action_chains import ActionChains\n",
    "from selenium.webdriver.support.ui import WebDriverWait\n",
    "from selenium.webdriver.support import expected_conditions as EC\n",
    "from selenium.webdriver.support.select import Select"
   ]
  },
  {
   "cell_type": "markdown",
   "id": "473738ef-4e9f-4f58-8ae9-1cb6b4fcbf0f",
   "metadata": {},
   "source": [
    "## Extraction"
   ]
  },
  {
   "cell_type": "markdown",
   "id": "79079401-3c62-4bef-a340-8fef3e50d7ac",
   "metadata": {
    "collapsed": true,
    "jupyter": {
     "outputs_hidden": true
    }
   },
   "source": [
    "### Download St. Clair Co. Property Tax Inquiry Selected Townships Parcel Listing "
   ]
  },
  {
   "cell_type": "code",
   "execution_count": 3,
   "id": "b1bdbbe5-0541-4049-8e8f-e3ac73af67bb",
   "metadata": {},
   "outputs": [],
   "source": [
    "search_pg = \"https://stclairil.devnetwedge.com/\""
   ]
  },
  {
   "cell_type": "code",
   "execution_count": 4,
   "id": "a23aaf0c-d4f7-4569-b3ae-9d11980338e2",
   "metadata": {},
   "outputs": [],
   "source": [
    "options = Options()\n",
    "options.add_argument(\"--start-maximized\")\n",
    "# options.add_argument(\"--headless=new\")"
   ]
  },
  {
   "cell_type": "code",
   "execution_count": 5,
   "id": "c688c0cf-7769-41ad-a1a0-a53f33185fe0",
   "metadata": {},
   "outputs": [],
   "source": [
    "driver = webdriver.Chrome(options)\n",
    "# driver = webdriver.Firefox(options)\n",
    "driver.implicitly_wait(3)\n",
    "driver.get(search_pg)"
   ]
  },
  {
   "cell_type": "code",
   "execution_count": 6,
   "id": "e3880df7-f7d4-4096-8a4d-5f45d4fcfcf0",
   "metadata": {
    "scrolled": true
   },
   "outputs": [],
   "source": [
    "# Click into Advanced Search Tab\n",
    "advance_search_tab = WebDriverWait(driver, 10).until(\n",
    "    EC.presence_of_element_located((By.XPATH, \"//a[@href='#advanced-search']\"))\n",
    ")\n",
    "advance_search_tab.click()"
   ]
  },
  {
   "cell_type": "code",
   "execution_count": 7,
   "id": "74a9e1c6-c1d3-4acd-bd9c-76a98c49a11b",
   "metadata": {
    "scrolled": true
   },
   "outputs": [],
   "source": [
    "# Select Townships\n",
    "township_select = Select(WebDriverWait(driver, 10).until(\n",
    "    EC.presence_of_element_located((By.ID, \"advanced-search-townships\"))\n",
    "))\n",
    "township_select.select_by_value(\"02\")\n",
    "township_select.select_by_value(\"11\")\n",
    "township_select.select_by_value(\"01\")\n",
    "township_select.select_by_value(\"06\")"
   ]
  },
  {
   "cell_type": "code",
   "execution_count": 8,
   "id": "88bf34ed-aad2-4a5d-a3f4-603e591e41f9",
   "metadata": {
    "scrolled": true
   },
   "outputs": [],
   "source": [
    "# Check All Years Box and Search\n",
    "all_years_chkbx = WebDriverWait(driver, 10).until(\n",
    "    EC.element_to_be_clickable((By.ID, \"advanced-search-include-all-years\"))\n",
    ")\n",
    "form = WebDriverWait(driver, 10).until(\n",
    "    EC.presence_of_element_located((By.XPATH, \"//form\"))\n",
    ")\n",
    "driver.execute_script(f\"document.getElementById('advanced-search-include-all-years').click()\")\n",
    "all_years_chkbx.submit()"
   ]
  },
  {
   "cell_type": "code",
   "execution_count": 12,
   "id": "d1ea37dc-5d36-4a58-841a-2f3307f0b753",
   "metadata": {},
   "outputs": [
    {
     "name": "stdout",
     "output_type": "stream",
     "text": [
      "Reinitialized existing Git repository in C:/Users/python-dev/Development/StClairCo_LandUse/.git/\n"
     ]
    },
    {
     "name": "stderr",
     "output_type": "stream",
     "text": [
      "warning: in the working copy of 'stcc_ppln.ipynb', LF will be replaced by CRLF the next time Git touches it\n"
     ]
    },
    {
     "name": "stdout",
     "output_type": "stream",
     "text": [
      "[master (root-commit) ada1eca] first commit\n",
      " 1 file changed, 262 insertions(+)\n",
      " create mode 100644 stcc_ppln.ipynb\n"
     ]
    },
    {
     "name": "stderr",
     "output_type": "stream",
     "text": [
      "error: remote origin already exists.\n",
      "remote: Repository not found.\n",
      "fatal: repository 'https://github.com/dominiquehill0531/stccil-land_use-ppln.git/' not found\n"
     ]
    }
   ],
   "source": [
    "!git config --global user.email \"djhill0531@gmail.com\"\n",
    "!git config --global user.name \"dominiquehill0531\"\n",
    "!git init\n",
    "!git add stcc_ppln.ipynb\n",
    "!git commit -m \"first commit\"\n",
    "!git remote add origin https://github.com/dominiquehill0531/stccil-land_use-ppln.git\n",
    "!git push -u origin master"
   ]
  },
  {
   "cell_type": "code",
   "execution_count": 10,
   "id": "7947ed62-acc7-4d82-bfe6-a1d2568c34b8",
   "metadata": {},
   "outputs": [],
   "source": [
    "# driver.quit()"
   ]
  }
 ],
 "metadata": {
  "kernelspec": {
   "display_name": "Python 3 (ipykernel)",
   "language": "python",
   "name": "python3"
  },
  "language_info": {
   "codemirror_mode": {
    "name": "ipython",
    "version": 3
   },
   "file_extension": ".py",
   "mimetype": "text/x-python",
   "name": "python",
   "nbconvert_exporter": "python",
   "pygments_lexer": "ipython3",
   "version": "3.10.11"
  }
 },
 "nbformat": 4,
 "nbformat_minor": 5
}
