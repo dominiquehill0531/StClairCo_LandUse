{
 "cells": [
  {
   "cell_type": "markdown",
   "id": "9146ba41-0388-4f18-82ac-07969b6ef001",
   "metadata": {},
   "source": [
    "# St. Clair County Land Use and Parcel Data Pipeline"
   ]
  },
  {
   "cell_type": "code",
   "execution_count": null,
   "id": "b2e693eb-091b-4fbf-bae5-d68def34b48e",
   "metadata": {
    "scrolled": true
   },
   "outputs": [],
   "source": [
    "!pip3 install Selenium\n",
    "!pip3 install pandas\n",
    "!pip3 install lxml\n",
    "!pip3 install html5lib"
   ]
  },
  {
   "cell_type": "code",
   "execution_count": null,
   "id": "f7a5d49d-4b78-4de6-a774-6a737c4e405f",
   "metadata": {},
   "outputs": [],
   "source": [
    "import json\n",
    "import os\n",
    "import pandas as pd\n",
    "import pprint\n",
    "import re\n",
    "import requests\n",
    "import time"
   ]
  },
  {
   "cell_type": "code",
   "execution_count": null,
   "id": "32d5c69b-c33e-495e-aa43-13bfef945049",
   "metadata": {},
   "outputs": [],
   "source": [
    "from bs4 import BeautifulSoup\n",
    "from concurrent.futures import ThreadPoolExecutor\n",
    "from datetime import timedelta\n",
    "from io import StringIO\n",
    "\n",
    "from selenium import webdriver\n",
    "from selenium.webdriver.chrome.options import Options\n",
    "from selenium.webdriver.common.by import By\n",
    "from selenium.webdriver.common.action_chains import ActionChains\n",
    "from selenium.webdriver.support.ui import WebDriverWait\n",
    "from selenium.webdriver.support import expected_conditions as EC\n",
    "from selenium.webdriver.support.select import Select"
   ]
  },
  {
   "cell_type": "markdown",
   "id": "473738ef-4e9f-4f58-8ae9-1cb6b4fcbf0f",
   "metadata": {},
   "source": [
    "## Extraction"
   ]
  },
  {
   "cell_type": "markdown",
   "id": "79079401-3c62-4bef-a340-8fef3e50d7ac",
   "metadata": {
    "collapsed": true,
    "jupyter": {
     "outputs_hidden": true
    }
   },
   "source": [
    "### Download St. Clair Co. Property Tax Inquiry Selected Townships Parcel Listing "
   ]
  },
  {
   "cell_type": "code",
   "execution_count": null,
   "id": "b1bdbbe5-0541-4049-8e8f-e3ac73af67bb",
   "metadata": {},
   "outputs": [],
   "source": [
    "search_pg = \"https://stclairil.devnetwedge.com/\"\n",
    "cwd = os.getcwd()"
   ]
  },
  {
   "cell_type": "code",
   "execution_count": null,
   "id": "a23aaf0c-d4f7-4569-b3ae-9d11980338e2",
   "metadata": {},
   "outputs": [],
   "source": [
    "options = Options()\n",
    "options.add_argument(\"--start-maximized\")\n",
    "options.add_argument(\"--headless=new\")\n",
    "prefs = {\"download.default_directory\": f\"{cwd}\"}\n",
    "options.add_experimental_option(\"prefs\", prefs)"
   ]
  },
  {
   "cell_type": "code",
   "execution_count": null,
   "id": "c688c0cf-7769-41ad-a1a0-a53f33185fe0",
   "metadata": {},
   "outputs": [],
   "source": [
    "driver = webdriver.Chrome(options)\n",
    "driver.implicitly_wait(3)\n",
    "driver.get(search_pg)"
   ]
  },
  {
   "cell_type": "code",
   "execution_count": null,
   "id": "e3880df7-f7d4-4096-8a4d-5f45d4fcfcf0",
   "metadata": {
    "scrolled": true
   },
   "outputs": [],
   "source": [
    "# Click into Advanced Search Tab\n",
    "advance_search_tab = WebDriverWait(driver, 10).until(\n",
    "    EC.presence_of_element_located((By.XPATH, \"//a[@href='#advanced-search']\"))\n",
    ")\n",
    "advance_search_tab.click()"
   ]
  },
  {
   "cell_type": "code",
   "execution_count": null,
   "id": "74a9e1c6-c1d3-4acd-bd9c-76a98c49a11b",
   "metadata": {
    "scrolled": true
   },
   "outputs": [],
   "source": [
    "# Select Townships\n",
    "township_select = Select(WebDriverWait(driver, 10).until(\n",
    "    EC.presence_of_element_located((By.ID, \"advanced-search-townships\"))\n",
    "))\n",
    "township_select.select_by_value(\"02\")\n",
    "township_select.select_by_value(\"11\")\n",
    "township_select.select_by_value(\"01\")\n",
    "township_select.select_by_value(\"06\")"
   ]
  },
  {
   "cell_type": "code",
   "execution_count": null,
   "id": "88bf34ed-aad2-4a5d-a3f4-603e591e41f9",
   "metadata": {
    "scrolled": true
   },
   "outputs": [],
   "source": [
    "# Check All Years Box and Search\n",
    "all_years_chkbx = WebDriverWait(driver, 10).until(\n",
    "    EC.element_to_be_clickable((By.ID, \"advanced-search-include-all-years\"))\n",
    ")\n",
    "form = WebDriverWait(driver, 10).until(\n",
    "    EC.presence_of_element_located((By.XPATH, \"//form\"))\n",
    ")\n",
    "driver.execute_script(f\"document.getElementById('advanced-search-include-all-years').click()\")\n",
    "all_years_chkbx.submit()"
   ]
  },
  {
   "cell_type": "code",
   "execution_count": null,
   "id": "67f43f54-65e3-4634-9da3-8d8b1d54ac8f",
   "metadata": {},
   "outputs": [],
   "source": [
    "# Export Results to CSV and Download\n",
    "export_btn = WebDriverWait(driver, 10).until(\n",
    "    EC.element_to_be_clickable((By.XPATH, \"//a[@href='/Search/ExportClientsListToCSV']\"))\n",
    ")\n",
    "export_btn.click()"
   ]
  },
  {
   "cell_type": "code",
   "execution_count": null,
   "id": "7947ed62-acc7-4d82-bfe6-a1d2568c34b8",
   "metadata": {},
   "outputs": [],
   "source": [
    "driver.quit()"
   ]
  },
  {
   "cell_type": "markdown",
   "id": "e556a1e6-efd6-4bd5-809e-fb258338d173",
   "metadata": {},
   "source": [
    "### Scrape Parcel Information Tables"
   ]
  },
  {
   "cell_type": "code",
   "execution_count": null,
   "id": "55549d14-75ea-4acb-bc3b-d18b26ca36e7",
   "metadata": {},
   "outputs": [],
   "source": [
    "parcel_list = pd.read_csv(\"Exported_Search_Results.csv\")"
   ]
  },
  {
   "cell_type": "code",
   "execution_count": null,
   "id": "d9cf3888-b52a-4283-8667-11b625f7501f",
   "metadata": {},
   "outputs": [],
   "source": [
    "parcel_list.describe(include=\"all\")"
   ]
  },
  {
   "cell_type": "code",
   "execution_count": null,
   "id": "bd71b510-0436-4167-8a4a-d07dff3b3095",
   "metadata": {},
   "outputs": [],
   "source": [
    "parcel_list.head()"
   ]
  },
  {
   "cell_type": "code",
   "execution_count": null,
   "id": "ee63c574-4c4b-4e48-aa5b-3713ff97dacf",
   "metadata": {},
   "outputs": [],
   "source": [
    "# Format PropertyAccountNumber to be Solely Numeric + 'X'\n",
    "def only_numeric(str):\n",
    "    return \"\".join(re.findall(r\"[\\dX]\", str))\n",
    "\n",
    "parcel_list['Property Account Number'] = parcel_list['Property Account Number'].apply(only_numeric)\n",
    "parcel_list.head()"
   ]
  },
  {
   "cell_type": "code",
   "execution_count": null,
   "id": "97764104-4c9a-4126-9b5c-5d50c43025ac",
   "metadata": {},
   "outputs": [],
   "source": [
    "def scrape_parcel_pg(listing_number, listing_year):\n",
    "    parcel_url = f\"{search_pg}parcel/view/{listing_number}/{listing_year}\"\n",
    "    parcel_pg = requests.get(parcel_url)\n",
    "    parcel_pg = BeautifulSoup(parcel_pg.text, \"html.parser\")\n",
    "    panel_divs = parcel_pg.find_all(class_=\"panel panel-info\")\n",
    "        \n",
    "    tables_dict = {}\n",
    "    \n",
    "    for div in panel_divs:\n",
    "        try:\n",
    "            tbl_key = div.div.h3.text\n",
    "            tbl = div.div.h3.parent.find_next_sibling().find(\"table\").prettify()\n",
    "            tables_dict[tbl_key] = pd.read_html(StringIO(tbl))[0]\n",
    "        except:\n",
    "            continue\n",
    "    \n",
    "    parcel_number = listing_number\n",
    "    year = int(listing_year)\n",
    "    \n",
    "    # Property Information Table\n",
    "    parcel_address = tables_dict['Property Information'][1][0].split(\"Site Address\")[1].strip()\n",
    "    sale_status = tables_dict[\"Property Information\"][0][2].split(\"Sale Status\")[1].strip()\n",
    "    property_class = tables_dict[\"Property Information\"][0][3].split(\"-\")[0].split(\"Property Class\")[1].strip()\n",
    "    tax_status = tables_dict[\"Property Information\"][2][3].split(\"Tax Status\")[1].strip()\n",
    "    net_taxable = tables_dict[\"Property Information\"][0][4].split(\"Net Taxable Value\")[1].strip()\n",
    "    tax_rate = tables_dict[\"Property Information\"][1][4].split(\"Tax Rate\")[1].strip()\n",
    "    total_tax = tables_dict[\"Property Information\"][2][4].split(\"$\")[1].strip()\n",
    "    township = tables_dict[\"Property Information\"][0][5].split(\"Township\")[1].strip()\n",
    "    acreage = tables_dict[\"Property Information\"][1][5].split(\"Acres\")[1].strip()\n",
    "    \n",
    "    # Assessments Table\n",
    "    homesite_val = tables_dict[\"Assessments\"].get(\"Homesite\")[0]\n",
    "    dwelling_val = tables_dict[\"Assessments\"].get(\"Dwelling\")[0]\n",
    "    dept_rev_val = tables_dict[\"Assessments\"].get(\"Total\")[0]\n",
    "\n",
    "    # Billing Table\n",
    "    total_billed = tables_dict[\"Billing\"].get(\"Totals\")[4].strip(\"$\")\n",
    "    total_unpaid = tables_dict[\"Billing\"].get(\"Totals\")[6].strip(\"$\")\n",
    "\n",
    "    # Owner Information Table\n",
    "    owner_name = tables_dict[\"Parcel Owner Information\"].get(\"Name\")[0]\n",
    "    owner_address = tables_dict[\"Parcel Owner Information\"].get(\"Address\")[0]\n",
    "\n",
    "    return {\n",
    "        \"parcel_number\": parcel_number,\n",
    "        \"year\": year,\n",
    "        \"parcel_address\": parcel_address,\n",
    "        \"owner\": owner_name,\n",
    "        \"owner_address\": owner_address,\n",
    "        \"sale_status\": sale_status,\n",
    "        \"property_class\": property_class,\n",
    "        \"tax_status\": tax_status,\n",
    "        \"net_taxable\": net_taxable, \n",
    "        \"tax_rate\": tax_rate,\n",
    "        \"total_tax\": total_tax,\n",
    "        \"township\": township,\n",
    "        \"acreage\": acreage,\n",
    "        \"homesite_val\": homesite_val, \n",
    "        \"dwelling_val\": dwelling_val,\n",
    "        \"dept_rev_val\": dept_rev_val,\n",
    "        \"total_billed\": total_billed,\n",
    "        \"total_unpaid\": total_unpaid\n",
    "    }\n"
   ]
  },
  {
   "cell_type": "code",
   "execution_count": null,
   "id": "01cda5fd-1b9e-4893-80ae-257502e34deb",
   "metadata": {},
   "outputs": [],
   "source": [
    "def write_records():\n",
    "    function_start = time.perf_counter()\n",
    "    headers = [\n",
    "        \"parcel_number\", \"year\", \"parcel_address\", \"owner\", \"owner_address\", \n",
    "        \"sale_status\", \"property_class\", \"tax_status\", \"net_taxable\", \n",
    "        \"tax_rate\", \"total_tax\", \"township\", \"acreage\", \"homesite_val\", \n",
    "        \"dwelling_val\", \"dept_rev_val\", \"total_billed\", \"total_unpaid\"\n",
    "    ]\n",
    "    parcel_records = []\n",
    "    records_missed = []\n",
    "    info_missing_ct = 0\n",
    "    hundred_loop_start = time.perf_counter()\n",
    "\n",
    "    for index, row in parcel_list.iterrows():\n",
    "        if index == 0:\n",
    "            continue\n",
    "        else:\n",
    "            listing_year = row['Year']\n",
    "            listing_number = row['Property Account Number']\n",
    "            try:\n",
    "                parcel_info = scrape_parcel_pg(listing_number, listing_year)\n",
    "            except (TypeError, ValueError, IndexError, KeyError) as err:\n",
    "                info_missing_ct += 1\n",
    "                records_missed.append([listing_number, listing_year, err])\n",
    "            else:\n",
    "                parcel_records.append(list(parcel_info.values()))\n",
    "        if index % 20 == 0:\n",
    "            for_write = pd.DataFrame(parcel_records, columns=headers)\n",
    "            if index == 20:\n",
    "                for_write.to_csv(\"parcel_records.csv\", index=False, mode=\"a\")\n",
    "            else:\n",
    "                for_write.to_csv(\"parcel_records.csv\", index=False, header=False, mode=\"a\")\n",
    "            if index % 100 == 0:\n",
    "                hundred_loops_t = timedelta(seconds=time.perf_counter()-hundred_loop_start)\n",
    "                print(f\"At {index}: missed {info_missing_ct} over {hundred_loops_t}\")\n",
    "                missed_write = pd.DataFrame(records_missed, columns=[\"parcel\", \"year\", \"error\"])\n",
    "                if index == 100:\n",
    "                    missed_write.to_csv(\"missed_parcels.csv\", index=False, mode=\"a\")\n",
    "                else:\n",
    "                    missed_write.to_csv(\"missed_parcels.csv\", index=False, header=False, mode=\"a\")\n",
    "                records_missed.clear()\n",
    "                hundred_loop_start = time.perf_counter()\n",
    "            parcel_records.clear()\n",
    "    write_duration = timedelta(seconds=time.perf_counter()-function_start)\n",
    "    print(f\"{info_missing_ct} parcel records missing information. Duration: {write_duration}\")\n"
   ]
  },
  {
   "cell_type": "code",
   "execution_count": null,
   "id": "92713fe7-5157-4b83-b03e-03b90e6ba5a7",
   "metadata": {},
   "outputs": [],
   "source": [
    "records_df = pd.read_csv(\"parcel_records.csv\")\n",
    "display(records_df.dtypes)\n",
    "display(records_df.sample(7))\n",
    "display(records_df.describe(include=\"all\"))\n"
   ]
  }
 ],
 "metadata": {
  "kernelspec": {
   "display_name": "Python 3 (ipykernel)",
   "language": "python",
   "name": "python3"
  },
  "language_info": {
   "codemirror_mode": {
    "name": "ipython",
    "version": 3
   },
   "file_extension": ".py",
   "mimetype": "text/x-python",
   "name": "python",
   "nbconvert_exporter": "python",
   "pygments_lexer": "ipython3",
   "version": "3.10.11"
  }
 },
 "nbformat": 4,
 "nbformat_minor": 5
}
